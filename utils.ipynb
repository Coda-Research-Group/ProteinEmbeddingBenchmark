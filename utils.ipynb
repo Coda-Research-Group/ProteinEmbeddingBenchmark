{
 "cells": [
  {
   "cell_type": "code",
   "execution_count": null,
   "metadata": {},
   "outputs": [],
   "source": [
    "from sklearn.decomposition import IncrementalPCA\n",
    "import pandas as pd\n",
    "import os\n",
    "from tqdm import tqdm\n",
    "from pathlib import Path\n",
    "\n",
    "def fit_pca(embeddings_path=\"/embeddings/grasr-embedding/\", name=\"cif2grasr\"):\n",
    "    \"\"\"\n",
    "    Iteratively fit PCA on all embeddings in the folder.\n",
    "\n",
    "    Args:\n",
    "    embeddings_path (str): path to the folder with embeddings\n",
    "    name (str): base name of the embedding pkl file\n",
    "\n",
    "    Returns:\n",
    "    sklearn.decomposition.IncrementalPCA: fitted PCA model\n",
    "    \"\"\"\n",
    "    ipca = IncrementalPCA(50)\n",
    "\n",
    "    embeddings = os.listdir(embeddings_path)[:1000]\n",
    "    embeddings = [file for file in embeddings if name in file]\n",
    "\n",
    "    for emb in tqdm(embeddings, desc=\"Fitting PCA\"):\n",
    "        data = pd.read_pickle(os.path.join(embeddings_path, emb))\n",
    "        data = list(value for value in data['embedding'].values)\n",
    "        ipca.partial_fit(data)\n",
    "    return ipca\n",
    "\n",
    "def transform_embeddings(pca, embeddings_path=\"/embeddings/grasr-embedding/\", name=\"cif2grasr\", output_path=\"/embeddings/pca-grasr-embedding/\"):\n",
    "    \"\"\"\n",
    "    Transform embeddings with PCA and save them to the output folder.\n",
    "\n",
    "    Args:\n",
    "    pca (sklearn.decomposition.IncrementalPCA): fitted PCA model\n",
    "    embeddings_path (str): path to the folder with embeddings\n",
    "    name (str): base name of the embedding pkl file\n",
    "    output_path (str): path to the output folder\n",
    "    \"\"\"\n",
    "    os.makedirs(output_path, exist_ok=True)\n",
    "    embeddings = os.listdir(embeddings_path)\n",
    "    embeddings = [file for file in embeddings if name in file]\n",
    "\n",
    "    for emb in tqdm(embeddings, desc=\"Transforming and saving embeddings\"):\n",
    "        unpickled_df = pd.read_pickle(os.path.join(embeddings_path, emb))\n",
    "        raw_embeddings = list(value for value in unpickled_df['embedding'].values)\n",
    "        embeddings_transformed = pca.transform(raw_embeddings)\n",
    "        pca_embeddings = {}\n",
    "        for protein, embedding in zip(unpickled_df['protein'].values, embeddings_transformed):\n",
    "            pca_embeddings[protein] = embedding\n",
    "\n",
    "        df = pd.DataFrame(list(pca_embeddings.items()), columns=[\"protein\", \"embedding\"])\n",
    "        df.to_pickle(os.path.join(output_path, \"pca-\" + emb))\n",
    "\n",
    "ipca = fit_pca()\n",
    "#transform_embeddings(ipca)"
   ]
  },
  {
   "cell_type": "code",
   "execution_count": null,
   "metadata": {},
   "outputs": [],
   "source": [
    "from kubernetes import client, config\n",
    "\n",
    "config.load_kube_config(config_file=\"kuba-cluster.yaml\")\n",
    "api_instance = client.BatchV1Api()\n",
    "\n",
    "\n",
    "# list all jobs under namespace\n",
    "api_response = api_instance.list_namespaced_job(namespace=\"fi-lmi-ns\")\n",
    "jobs = [job.metadata.name for job in api_response.items if job.metadata.name.startswith(\"granularity-30\")]\n",
    "print(len(jobs))\n",
    "# delete jobs\n",
    "for job in jobs:\n",
    "    try:\n",
    "        api_response = api_instance.delete_namespaced_job(\n",
    "            name=job,\n",
    "            namespace=\"fi-lmi-ns\",\n",
    "            body=client.V1DeleteOptions(\n",
    "                propagation_policy='Foreground',\n",
    "                grace_period_seconds=5))\n",
    "    except Exception as e:\n",
    "        print(e)"
   ]
  },
  {
   "cell_type": "code",
   "execution_count": null,
   "metadata": {},
   "outputs": [],
   "source": [
    "# list all files in folder\n",
    "import os\n",
    "import glob\n",
    "from multiprocessing import Pool\n",
    "from time import sleep\n",
    "\n",
    "\n",
    "files = glob.glob(\"/embeddings/3dzd-embedding/cif23dzd-result-*\")\n",
    "files = [file.split(\"-\")[-1].split(\".\")[0] for file in files]\n",
    "\n",
    "files2 = glob.glob(\"/embeddings/configs/*\")\n",
    "files2 = [file.split(\"-\")[-1] for file in files2]\n",
    "remaining_jobs = set(files2) - set(files)\n",
    "len(list(remaining_jobs))\n",
    "\n",
    "for job in remaining_jobs:\n",
    "    sleep(1)\n",
    "    os.system(f\"python job_orchestrator.py -t job_templates/3dzd-job.yaml.jinja2 -i {job} -j 1 -m 100 -n fi-lmi-ns &\")"
   ]
  },
  {
   "cell_type": "code",
   "execution_count": 2,
   "metadata": {},
   "outputs": [
    {
     "name": "stdout",
     "output_type": "stream",
     "text": [
      "https://search.foldseek.com/search?accession=F1B5A5&source=AlphaFoldDB\n",
      "https://search.foldseek.com/search?accession=B3STG0&source=AlphaFoldDB\n",
      "https://search.foldseek.com/search?accession=A0A499JUY9&source=AlphaFoldDB\n",
      "https://search.foldseek.com/search?accession=A0A2S1HAU7&source=AlphaFoldDB\n",
      "https://search.foldseek.com/search?accession=A0A3G6IML3&source=AlphaFoldDB\n",
      "https://search.foldseek.com/search?accession=A0A220H7Z7&source=AlphaFoldDB\n",
      "https://search.foldseek.com/search?accession=A0A6C0R830&source=AlphaFoldDB\n",
      "https://search.foldseek.com/search?accession=E0D9T2&source=AlphaFoldDB\n",
      "https://search.foldseek.com/search?accession=A0A346KW05&source=AlphaFoldDB\n",
      "https://search.foldseek.com/search?accession=A0A159E4H8&source=AlphaFoldDB\n",
      "https://search.foldseek.com/search?accession=A0A386III0&source=AlphaFoldDB\n",
      "https://search.foldseek.com/search?accession=H2A023&source=AlphaFoldDB\n",
      "https://search.foldseek.com/search?accession=A0A6M3AS98&source=AlphaFoldDB\n",
      "https://search.foldseek.com/search?accession=S5WEZ1&source=AlphaFoldDB\n",
      "https://search.foldseek.com/search?accession=E5FJN9&source=AlphaFoldDB\n",
      "https://search.foldseek.com/search?accession=G8HAR5&source=AlphaFoldDB\n",
      "https://search.foldseek.com/search?accession=A0A7G8KVF0&source=AlphaFoldDB\n",
      "https://search.foldseek.com/search?accession=A0A2P1D389&source=AlphaFoldDB\n",
      "https://search.foldseek.com/search?accession=A0A344VJA7&source=AlphaFoldDB\n",
      "https://search.foldseek.com/search?accession=Q5K401&source=AlphaFoldDB\n",
      "https://search.foldseek.com/search?accession=A0A3Q8HBV0&source=AlphaFoldDB\n",
      "https://search.foldseek.com/search?accession=A0A3G1V387&source=AlphaFoldDB\n",
      "https://search.foldseek.com/search?accession=H6YZH9&source=AlphaFoldDB\n",
      "https://search.foldseek.com/search?accession=A0A2Z4ERT0&source=AlphaFoldDB\n",
      "https://search.foldseek.com/search?accession=A0A858C1S4&source=AlphaFoldDB\n"
     ]
    }
   ],
   "source": [
    "from random import sample\n",
    "import pandas as pd\n",
    "\n",
    "\n",
    "proteins = {}\n",
    "PROTEIN_INDEX = pd.read_csv(\"/embeddings/proteins-index.csv\", sep=\"\\t\", header=None)\n",
    "\n",
    "for i in range(25):\n",
    "    protein_sample = PROTEIN_INDEX.sample(1)\n",
    "    protein_sample = protein_sample[0].values[0].split(\",\")\n",
    "    protein_sample = sample(protein_sample[1:], 1)\n",
    "    print(f\"https://search.foldseek.com/search?accession={protein_sample[0].split('-')[1]}&source=AlphaFoldDB\")"
   ]
  },
  {
   "cell_type": "code",
   "execution_count": 1,
   "metadata": {},
   "outputs": [
    {
     "name": "stdout",
     "output_type": "stream",
     "text": [
      "                                                   0\n",
      "0   proteome-tax_id-882679-0_v3.tar,AF-A0A0A7W7S9-F1\n",
      "1  proteome-tax_id-882756-0_v3.tar,AF-G8Z514-F1,A...\n",
      "2       proteome-tax_id-882753-0_v3.tar,AF-G8Z504-F1\n",
      "3  proteome-tax_id-882762-0_v3.tar,AF-G8Z535-F1,A...\n",
      "4  proteome-tax_id-882772-0_v3.tar,AF-G8Z538-F1,A...\n"
     ]
    }
   ],
   "source": [
    "import pandas as pd\n",
    "PROTEIN_INDEX = pd.read_csv(\"/embeddings/proteins-index.csv\", sep=\"\\t\", header=None)\n",
    "\n",
    "print(PROTEIN_INDEX.head(5))\n"
   ]
  },
  {
   "cell_type": "code",
   "execution_count": 3,
   "metadata": {},
   "outputs": [
    {
     "name": "stdout",
     "output_type": "stream",
     "text": [
      "214684311\n"
     ]
    }
   ],
   "source": [
    "import os\n",
    "\n",
    "with open(\"/embeddings/proteins-index.csv\", \"r\") as f:\n",
    "    lines = f.readlines()\n",
    "    # find number of ',' in file\n",
    "    commas = [line.count(\",\") for line in lines]\n",
    "print(sum(commas))\n"
   ]
  },
  {
   "cell_type": "code",
   "execution_count": 22,
   "metadata": {},
   "outputs": [
    {
     "data": {
      "text/plain": [
       "8069"
      ]
     },
     "execution_count": 22,
     "metadata": {},
     "output_type": "execute_result"
    }
   ],
   "source": [
    "len(next(line for line in lines if \"proteome-tax_id-2480626-0_v3.tar\" in line).split(\",\"))"
   ]
  },
  {
   "cell_type": "code",
   "execution_count": 4,
   "metadata": {},
   "outputs": [
    {
     "name": "stdout",
     "output_type": "stream",
     "text": [
      "9345\n"
     ]
    }
   ],
   "source": [
    "import os\n",
    "\n",
    "lengths = []\n",
    "files = [\n",
    "    \"proteome-tax_id-1916222-0_v3.tar\",\n",
    "    \"proteome-tax_id-2292023-0_v3.tar\",\n",
    "    \"proteome-tax_id-37931-1_v3.tar\",\n",
    "    \"proteome-tax_id-1194971-0_v3.tar\",\n",
    "    \"proteome-tax_id-999415-0_v3.tar\"\n",
    "]\n",
    "for line in lines:\n",
    "    if any(file in line.split(\",\")[0] for file in files):\n",
    "        lengths.append(line.count(\",\"))\n",
    "\n",
    "print(sum(lengths))"
   ]
  },
  {
   "cell_type": "code",
   "execution_count": 7,
   "metadata": {},
   "outputs": [
    {
     "data": {
      "image/png": "[encoded data removed]",
      "text/plain": [
       "<Figure size 640x480 with 1 Axes>"
      ]
     },
     "metadata": {},
     "output_type": "display_data"
    },
    {
     "name": "stdout",
     "output_type": "stream",
     "text": [
      "Total sample: 95663\n",
      "Proteins with distance < 0.5: 95471\n",
      "Proteins with distance < 0.1: 496\n"
     ]
    }
   ],
   "source": [
    "# plot histogram of values from starterpack/embeddings-computation/AF-A0A6F8FN44-F1-distances.json\n",
    "import json\n",
    "import matplotlib.pyplot as plt\n",
    "\n",
    "with open(\"A0A2Z4N0P5_100k_distances.json\", \"r\") as f:\n",
    "    distances = json.load(f)\n",
    "\n",
    "tm_distance = {k: v for k, v in distances.items()}\n",
    "plt.hist([1-v for v in tm_distance.values()], bins=1000)\n",
    "plt.xlabel(\"TM distance\")\n",
    "plt.ylabel(\"Frequency\")\n",
    "# plt.title(\"TM-distance distribution of A0A2Z4N0P5\")\n",
    "# save plt with DPI for print\n",
    "plt.savefig(\"images/A0A2Z4N0P5_100k_distances.png\", dpi=300)\n",
    "plt.show()\n",
    "print(\"Total sample:\", len(tm_distance))\n",
    "print(\"Proteins with distance < 0.5:\", len([v for v in tm_distance.values() if v < 0.5]))\n",
    "print(\"Proteins with distance < 0.1:\", len([v for v in tm_distance.values() if v < 0.1]))"
   ]
  },
  {
   "cell_type": "code",
   "execution_count": 1,
   "metadata": {},
   "outputs": [
    {
     "data": {
      "image/png": "[encoded data removed]",
      "text/plain": [
       "<Figure size 640x480 with 1 Axes>"
      ]
     },
     "metadata": {},
     "output_type": "display_data"
    }
   ],
   "source": [
    "import json\n",
    "import os\n",
    "import matplotlib.pyplot as plt\n",
    "\n",
    "files = os.listdir(\"results/\")\n",
    "files = [file for file in files if file.endswith(\"distances.json\")]\n",
    "files = [file.split(\"-\")[1] for file in files]\n",
    "protein = files[9]\n",
    "\n",
    "with open(f\"results/AF-{protein}-F1-distances.json\", \"r\") as f:\n",
    "    distances = json.load(f)\n",
    "\n",
    "with open(f\"foldseek-files/{protein}\", \"r\") as f:\n",
    "    f = f.read().split()\n",
    "    foldseek_proteins = [w for w in f if w.startswith(\"AF-\")]\n",
    "    foldseek_proteins = [w.split(\"-model\")[0].split(\"-\")[1] for w in foldseek_proteins]\n",
    "\n",
    "plt.hist([v for (k,v) in distances.items() if k not in foldseek_proteins], density=True, histtype='bar', stacked=True, bins=500)\n",
    "plt.hist([v for (k,v) in distances.items() if k in foldseek_proteins], density=True, histtype='bar', stacked=True, bins=500)\n",
    "plt.xlabel(\"TM-Distance\")\n",
    "plt.ylabel(\"Frequency\")\n",
    "plt.legend([\"Random\", \"FoldSeek\"])\n",
    "# plt.title(f\"TM distance distribution for {protein}\")\n",
    "plt.savefig(\"images/A0A3P1W0K9_subset.png\", dpi=300)\n",
    "plt.show()"
   ]
  },
  {
   "cell_type": "code",
   "execution_count": 1,
   "metadata": {},
   "outputs": [
    {
     "name": "stdout",
     "output_type": "stream",
     "text": [
      "Proteins before filtering: 109\n",
      "Final sample size: 81\n"
     ]
    }
   ],
   "source": [
    "import requests\n",
    "import os\n",
    "import json\n",
    "\n",
    "candidate_proteins = os.listdir(\"foldseek-files/\")\n",
    "print(\"Proteins before filtering:\", len(candidate_proteins))\n",
    "filtered_proteins = []\n",
    "for protein in candidate_proteins:\n",
    "    with open(f\"results/AF-{protein}-F1-distances.json\") as file:\n",
    "        json_file = json.load(file)\n",
    "        if list(json_file.values())[600] < 0.5:\n",
    "            filtered_proteins.append(protein)\n",
    "candidate_proteins = filtered_proteins\n",
    "print(\"Final sample size:\", len(candidate_proteins))\n",
    "\n",
    "results = []\n",
    "for protein in candidate_proteins:\n",
    "    response = requests.get(f\"https://alphafold.ebi.ac.uk/api/uniprot/summary/{protein}.json\")\n",
    "    results.append(response.json())\n"
   ]
  },
  {
   "cell_type": "code",
   "execution_count": 2,
   "metadata": {},
   "outputs": [
    {
     "name": "stdout",
     "output_type": "stream",
     "text": [
      "Mean: 220.23456790123456 , stdev 86.82894658784035\n",
      "Shortest protein ('A4SGP8', 75) Longest protein ('K4JDQ0', 661)\n"
     ]
    },
    {
     "data": {
      "image/png": "[encoded data removed]",
      "text/plain": [
       "<Figure size 640x480 with 1 Axes>"
      ]
     },
     "metadata": {},
     "output_type": "display_data"
    }
   ],
   "source": [
    "import numpy as np\n",
    "import matplotlib.pyplot as plt\n",
    "\n",
    "# average sequence_length\n",
    "sequence_lengths = [result[\"uniprot_entry\"][\"sequence_length\"] for result in results]\n",
    "print(\"Mean:\", np.mean(sequence_lengths), \", stdev\", np.std(sequence_lengths))\n",
    "\n",
    "zipped_proteins = list(zip(candidate_proteins, sequence_lengths))\n",
    "print(\"Shortest protein\", min(zipped_proteins, key=lambda x: x[1]), \"Longest protein\", max(zipped_proteins, key=lambda x: x[1]))\n",
    "\n",
    "plt.hist(sequence_lengths, bins=50)\n",
    "plt.xlabel(\"Sequence length\")\n",
    "plt.ylabel(\"Frequency\")\n",
    "plt.title(\"Sequence length distribution\")\n",
    "plt.show()\n"
   ]
  },
  {
   "cell_type": "code",
   "execution_count": 3,
   "metadata": {},
   "outputs": [],
   "source": [
    "import requests\n",
    "\n",
    "uniprot_results = []\n",
    "\n",
    "for protein in candidate_proteins:\n",
    "    response = requests.get(f\"https://rest.uniprot.org/uniprotkb/search?query=accession:{protein}\")\n",
    "    uniprot_results.append(response.json())"
   ]
  },
  {
   "cell_type": "code",
   "execution_count": 6,
   "metadata": {},
   "outputs": [
    {
     "data": {
      "image/png": "[encoded data removed]",
      "text/plain": [
       "<Figure size 640x480 with 1 Axes>"
      ]
     },
     "metadata": {},
     "output_type": "display_data"
    },
    {
     "name": "stdout",
     "output_type": "stream",
     "text": [
      "Eukaryota types: {'Viridiplantae', 'Sar', 'Fungi', 'Metazoa'}\n",
      "Bacteria types: {'Chlorobiota', 'Bacillota', 'Cyanobacteriota', 'Actinomycetota', 'Fusobacteriota', 'Pseudomonadota'}\n"
     ]
    }
   ],
   "source": [
    "# plot barchart with occurences\n",
    "from collections import Counter\n",
    "import matplotlib.pyplot as plt\n",
    "\n",
    "\n",
    "organisms = [result[\"results\"][0][\"organism\"][\"lineage\"] for result in uniprot_results if \"organism\" in result[\"results\"][0]]\n",
    "primary_organism = [organism[0] for organism in organisms]\n",
    "\n",
    "counter = Counter(primary_organism)\n",
    "plt.bar(counter.keys(), counter.values())\n",
    "plt.xlabel(\"Organism\")\n",
    "plt.ylabel(\"Frequency\")\n",
    "plt.title(\"Organism distribution of candidate proteins\")\n",
    "plt.show()\n",
    "\n",
    "print(\"Eukaryota types:\", set([organism[1] for organism in organisms if organism[0] == \"Eukaryota\"]))\n",
    "print(\"Bacteria types:\", set([organism[1] for organism in organisms if organism[0] == \"Bacteria\"]))\n",
    "\n"
   ]
  }
 ],
 "metadata": {
  "kernelspec": {
   "display_name": "base",
   "language": "python",
   "name": "python3"
  },
  "language_info": {
   "codemirror_mode": {
    "name": "ipython",
    "version": 3
   },
   "file_extension": ".py",
   "mimetype": "text/x-python",
   "name": "python",
   "nbconvert_exporter": "python",
   "pygments_lexer": "ipython3",
   "version": "3.10.11"
  }
 },
 "nbformat": 4,
 "nbformat_minor": 2
}
